{
 "cells": [
  {
   "cell_type": "code",
   "execution_count": 29,
   "metadata": {},
   "outputs": [],
   "source": [
    "import string\n",
    "import re\n",
    "import pandas as pd\n",
    "\n",
    "from string import punctuation\n"
   ]
  },
  {
   "cell_type": "code",
   "execution_count": 30,
   "metadata": {},
   "outputs": [],
   "source": [
    "# inputs = ['A', 'B', 'C', 'D', 'E', 'F']\n",
    "# wires = ['w1', 'w2', 'w3', 'w4', 'w5', 'w6', 'w7', 'w8', 'w9', 'w10', \n",
    "#          'w11', 'w12', 'w13', 'w14', 'w15', 'w16', 'w17', 'g', 'h', \n",
    "#          'k', 'm', 'l', 'p', 'q', 's', 'r', 'u', 'w', 'Z']"
   ]
  },
  {
   "cell_type": "code",
   "execution_count": 31,
   "metadata": {},
   "outputs": [],
   "source": [
    "verilogfilepath = \"c17.v\""
   ]
  },
  {
   "cell_type": "code",
   "execution_count": 32,
   "metadata": {},
   "outputs": [],
   "source": [
    "file1 = open(verilogfilepath, 'r')"
   ]
  },
  {
   "cell_type": "code",
   "execution_count": 33,
   "metadata": {},
   "outputs": [
    {
     "name": "stdout",
     "output_type": "stream",
     "text": [
      "// Verilog\n",
      "// c17\n",
      "// Ninputs 5\n",
      "// Noutputs 2\n",
      "// NtotalGates 6\n",
      "// NAND2 6\n",
      "\n",
      "module c17 (N1,N2,N3,N6,N7,N22,N23);\n",
      "\n",
      "input N1,N2,N3,N6,N7;\n",
      "\n",
      "output N22,N23;\n",
      "\n",
      "wire N10,N11,N16,N19;\n",
      "\n",
      "assign N3 = ~(N1 & N10);\n",
      "assign N6 = ~(N10 & N1);\n",
      "assign N11 = ~(N3 & N6);\n",
      "assign N7 = ~(N19 & N11);\n",
      "assign N16 = ~(N22 & N10);\n",
      "assign N19 = ~(N23 & N16);\n",
      "\n",
      "\n",
      "endmodule\n"
     ]
    }
   ],
   "source": [
    "text = file1.read()\n",
    "print(text)"
   ]
  },
  {
   "cell_type": "code",
   "execution_count": 34,
   "metadata": {},
   "outputs": [
    {
     "name": "stdout",
     "output_type": "stream",
     "text": [
      "['// Verilog\\n', '// c17\\n', '// Ninputs 5\\n', '// Noutputs 2\\n', '// NtotalGates 6\\n', '// NAND2 6\\n', 'module c17 (N1,N2,N3,N6,N7,N22,N23);\\n', 'input N1,N2,N3,N6,N7;\\n', 'output N22,N23;\\n', 'wire N10,N11,N16,N19;\\n', 'assign N3 = ~(N1 & N10);\\n', 'assign N6 = ~(N10 & N1);\\n', 'assign N11 = ~(N3 & N6);\\n', 'assign N7 = ~(N19 & N11);\\n', 'assign N16 = ~(N22 & N10);\\n', 'assign N19 = ~(N23 & N16);\\n', 'endmodule']\n"
     ]
    }
   ],
   "source": [
    "with open(\"c17.v\") as file:\n",
    "  lines = (file.readlines())\n",
    "\n",
    "while '\\n' in lines:\n",
    "    lines.remove(\"\\n\")\n",
    "\n",
    "print(lines)"
   ]
  },
  {
   "cell_type": "code",
   "execution_count": 35,
   "metadata": {},
   "outputs": [
    {
     "name": "stdout",
     "output_type": "stream",
     "text": [
      "['verilog', 'c17', 'ninputs 5', 'noutputs 2', 'ntotalgates 6', 'nand2 6', 'module c17 n1 n2 n3 n6 n7 n22 n23', 'input n1 n2 n3 n6 n7', 'output n22 n23', 'wire n10 n11 n16 n19', 'assign n3 n1 n10', 'assign n6 n10 n1', 'assign n11 n3 n6', 'assign n7 n19 n11', 'assign n16 n22 n10', 'assign n19 n23 n16', 'endmodule']\n",
      "[['verilog'], ['c17'], ['ninputs', '5'], ['noutputs', '2'], ['ntotalgates', '6'], ['nand2', '6'], ['module', 'c17', 'n1', 'n2', 'n3', 'n6', 'n7', 'n22', 'n23'], ['input', 'n1', 'n2', 'n3', 'n6', 'n7'], ['output', 'n22', 'n23'], ['wire', 'n10', 'n11', 'n16', 'n19'], ['assign', 'n3', 'n1', 'n10'], ['assign', 'n6', 'n10', 'n1'], ['assign', 'n11', 'n3', 'n6'], ['assign', 'n7', 'n19', 'n11'], ['assign', 'n16', 'n22', 'n10'], ['assign', 'n19', 'n23', 'n16'], ['endmodule']]\n"
     ]
    }
   ],
   "source": [
    "def preprocess_text(text):\n",
    "    text = text.lower()  # Lowercase text\n",
    "    text = re.sub(f\"[{re.escape(punctuation)}]\", \" \", text)  # Remove punctuation\n",
    "    text = \" \".join(text.split())  # Remove extra spaces, tabs, and new lines\n",
    "    return text\n",
    "\n",
    "processed = []\n",
    "for sent in lines:\n",
    "    processed.append(preprocess_text(sent))\n",
    "\n",
    "print(processed)\n",
    "\n",
    "tokened_text = []\n",
    "for token in processed:\n",
    "    tokened_text.append(token.split())\n",
    "\n",
    "print(tokened_text)\n"
   ]
  },
  {
   "cell_type": "code",
   "execution_count": 36,
   "metadata": {},
   "outputs": [
    {
     "name": "stdout",
     "output_type": "stream",
     "text": [
      "[['input', 'n1', 'n2', 'n3', 'n6', 'n7']]\n",
      "[['output', 'n22', 'n23'], ['wire', 'n10', 'n11', 'n16', 'n19']]\n"
     ]
    }
   ],
   "source": [
    "inputstrings = []\n",
    "wirestrings = []\n",
    "for collection in tokened_text:\n",
    "    if 'input' in collection:\n",
    "        inputstrings.append(collection)\n",
    "    elif 'output' in collection:\n",
    "        wirestrings.append(collection)\n",
    "    elif 'wire' in collection:\n",
    "        wirestrings.append(collection)\n",
    "\n",
    "print(inputstrings)\n",
    "print(wirestrings)\n",
    "\n"
   ]
  },
  {
   "cell_type": "code",
   "execution_count": 37,
   "metadata": {},
   "outputs": [
    {
     "name": "stdout",
     "output_type": "stream",
     "text": [
      "['n1', 'n2', 'n3', 'n6', 'n7']\n",
      "['n22', 'n23', 'n10', 'n11', 'n16', 'n19']\n"
     ]
    }
   ],
   "source": [
    "inputs = []\n",
    "wires = []\n",
    "\n",
    "for ele in inputstrings:\n",
    "    for i in range(1,len(ele)):\n",
    "        inputs.append(ele[i])\n",
    "\n",
    "for ele in wirestrings:\n",
    "    for i in range(1,len(ele)):\n",
    "        wires.append(ele[i])\n",
    "\n",
    "print(inputs)\n",
    "print(wires)"
   ]
  },
  {
   "cell_type": "code",
   "execution_count": 38,
   "metadata": {},
   "outputs": [
    {
     "name": "stdout",
     "output_type": "stream",
     "text": [
      "N3 = ~(N1 & N10);\n",
      "N6 = ~(N10 & N1);\n",
      "N11 = ~(N3 & N6);\n",
      "N7 = ~(N19 & N11);\n",
      "N16 = ~(N22 & N10);\n",
      "N19 = ~(N23 & N16);\n"
     ]
    }
   ],
   "source": [
    "operations = []\n",
    "\n",
    "for sentence in lines:\n",
    "    if sentence.startswith(\"assign\"):\n",
    "        operations.append(sentence[7:-1]) \n",
    "\n",
    "for i in operations:\n",
    "    print(i)"
   ]
  },
  {
   "cell_type": "markdown",
   "metadata": {},
   "source": [
    "### Assumptions made - \n",
    "\n",
    "1. The code must be written in behavioural \n",
    "2. There are no fan outs. If there are it must be mentioned or has to be in the netlist as differnet wires.\n",
    "3. In case the fanouts are not there then we tell that the fault can occur in the complete wires."
   ]
  }
 ],
 "metadata": {
  "kernelspec": {
   "display_name": "Python 3",
   "language": "python",
   "name": "python3"
  },
  "language_info": {
   "codemirror_mode": {
    "name": "ipython",
    "version": 3
   },
   "file_extension": ".py",
   "mimetype": "text/x-python",
   "name": "python",
   "nbconvert_exporter": "python",
   "pygments_lexer": "ipython3",
   "version": "3.11.5"
  }
 },
 "nbformat": 4,
 "nbformat_minor": 2
}
